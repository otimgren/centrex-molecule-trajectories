{
 "cells": [
  {
   "cell_type": "code",
   "execution_count": 1,
   "id": "3b316356",
   "metadata": {},
   "outputs": [],
   "source": [
    "import h5py\n",
    "import matplotlib.pyplot as plt"
   ]
  },
  {
   "cell_type": "code",
   "execution_count": 9,
   "id": "ed1f4cca",
   "metadata": {
    "tags": []
   },
   "outputs": [
    {
     "name": "stdout",
     "output_type": "stream",
     "text": [
      "Dataset names:\n",
      "0 -- test\n",
      "\n",
      "Dataset attributes:\n",
      "\n",
      " Data in dataset 0\n",
      "['BB exit']\n",
      "{'L': 0.019049999999999997, 'd': 0.1016, 'name': 'BB exit', 'x0': 0.0, 'y0': 0.0, 'z0': 0.15113, 'z1': 0.17018}\n"
     ]
    }
   ],
   "source": [
    "with h5py.File(\"test.hdf\", 'r') as f:\n",
    "    keys = list(f.keys())\n",
    "    print(\"Dataset names:\")\n",
    "    for i, key in enumerate(keys):\n",
    "        print(f\"{i} -- {key}\")\n",
    "    \n",
    "    index = 0\n",
    "    key = keys[index]\n",
    "    print(\"\\nDataset attributes:\")\n",
    "    for item in f[key].attrs.items():\n",
    "        \n",
    "        print(item)\n",
    "        \n",
    "    print(f\"\\n Data in dataset {index}\")\n",
    "    print(list(f[key].keys()))\n",
    "    print(dict(f[key]['BB exit'].attrs.items()))\n",
    "        "
   ]
  },
  {
   "cell_type": "code",
   "execution_count": null,
   "id": "2363abe6",
   "metadata": {},
   "outputs": [],
   "source": []
  }
 ],
 "metadata": {
  "kernelspec": {
   "display_name": "Python 3",
   "language": "python",
   "name": "python3"
  },
  "language_info": {
   "codemirror_mode": {
    "name": "ipython",
    "version": 3
   },
   "file_extension": ".py",
   "mimetype": "text/x-python",
   "name": "python",
   "nbconvert_exporter": "python",
   "pygments_lexer": "ipython3",
   "version": "3.7.11"
  }
 },
 "nbformat": 4,
 "nbformat_minor": 5
}
