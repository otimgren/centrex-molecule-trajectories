{
 "cells": [
  {
   "cell_type": "code",
   "execution_count": 5,
   "id": "3b316356",
   "metadata": {},
   "outputs": [],
   "source": [
    "import h5py\n",
    "import matplotlib.pyplot as plt"
   ]
  },
  {
   "cell_type": "code",
   "execution_count": 8,
   "id": "ed1f4cca",
   "metadata": {
    "tags": []
   },
   "outputs": [
    {
     "name": "stdout",
     "output_type": "stream",
     "text": [
      "Dataset names:\n",
      "0 -- run10\n",
      "1 -- test\n",
      "\n",
      "Dataset attributes:\n",
      "\n",
      "Data in dataset 0:\n",
      "['beamline', 'counter', 'position_distribution', 'trajectories', 'velocity_distribution']\n",
      "['molecule_0', 'molecule_1', 'molecule_10', 'molecule_11', 'molecule_12', 'molecule_13', 'molecule_14', 'molecule_15', 'molecule_16', 'molecule_17', 'molecule_18', 'molecule_19', 'molecule_2', 'molecule_20', 'molecule_21', 'molecule_22', 'molecule_23', 'molecule_24', 'molecule_25', 'molecule_26', 'molecule_27', 'molecule_28', 'molecule_29', 'molecule_3', 'molecule_30', 'molecule_31', 'molecule_32', 'molecule_33', 'molecule_34', 'molecule_35', 'molecule_36', 'molecule_37', 'molecule_38', 'molecule_39', 'molecule_4', 'molecule_40', 'molecule_41', 'molecule_42', 'molecule_43', 'molecule_44', 'molecule_45', 'molecule_46', 'molecule_47', 'molecule_48', 'molecule_49', 'molecule_5', 'molecule_50', 'molecule_51', 'molecule_52', 'molecule_53', 'molecule_54', 'molecule_55', 'molecule_6', 'molecule_7', 'molecule_8', 'molecule_9']\n"
     ]
    }
   ],
   "source": [
    "with h5py.File(\"test.hdf\", 'r') as f:\n",
    "    keys = list(f.keys())\n",
    "    print(\"Dataset names:\")\n",
    "    for i, key in enumerate(keys):\n",
    "        print(f\"{i} -- {key}\")\n",
    "    \n",
    "    index = 0\n",
    "    key = keys[index]\n",
    "    print(\"\\nDataset attributes:\")\n",
    "    for item in f[key].attrs.items():\n",
    "        print(item)\n",
    "        \n",
    "    print(f\"\\nData in dataset {index}:\")\n",
    "    print(list(f[key].keys()))\n",
    "    print(list(f[key]['trajectories'].keys()))\n",
    "    # print(list(f[key]['beamline']['ES lens'].attrs.keys()))\n",
    "        "
   ]
  },
  {
   "cell_type": "code",
   "execution_count": null,
   "id": "2cca69ca-cd06-4486-85e8-c8a91cfc54a6",
   "metadata": {},
   "outputs": [],
   "source": []
  }
 ],
 "metadata": {
  "kernelspec": {
   "display_name": "Python 3",
   "language": "python",
   "name": "python3"
  },
  "language_info": {
   "codemirror_mode": {
    "name": "ipython",
    "version": 3
   },
   "file_extension": ".py",
   "mimetype": "text/x-python",
   "name": "python",
   "nbconvert_exporter": "python",
   "pygments_lexer": "ipython3",
   "version": "3.7.11"
  }
 },
 "nbformat": 4,
 "nbformat_minor": 5
}
