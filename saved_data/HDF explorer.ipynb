{
 "cells": [
  {
   "cell_type": "code",
   "execution_count": 2,
   "id": "3b316356",
   "metadata": {},
   "outputs": [],
   "source": [
    "import h5py\n",
    "import matplotlib.pyplot as plt"
   ]
  },
  {
   "cell_type": "code",
   "execution_count": 8,
   "id": "ed1f4cca",
   "metadata": {
    "tags": []
   },
   "outputs": [
    {
     "name": "stdout",
     "output_type": "stream",
     "text": [
      "Dataset names:\n",
      "0 -- run1\n",
      "1 -- run2\n",
      "2 -- run3\n",
      "3 -- run4\n",
      "4 -- run5\n",
      "5 -- run6\n",
      "6 -- run7\n",
      "7 -- run8\n",
      "8 -- run9\n",
      "9 -- test\n",
      "10 -- test1\n",
      "\n",
      "Dataset attributes:\n",
      "\n",
      "Data in dataset 6:\n",
      "['beamline']\n",
      "['40K shield', '4K shield', 'BB exit', 'DR aperture', 'ES lens', 'Field plates']\n",
      "['L', 'V', 'a_interp', 'd', 'dz', 'mass', 'name', 'state', 'x0', 'y0', 'z0', 'z1']\n"
     ]
    }
   ],
   "source": [
    "with h5py.File(\"test.hdf\", 'r') as f:\n",
    "    keys = list(f.keys())\n",
    "    print(\"Dataset names:\")\n",
    "    for i, key in enumerate(keys):\n",
    "        print(f\"{i} -- {key}\")\n",
    "    \n",
    "    index = 6\n",
    "    key = keys[index]\n",
    "    print(\"\\nDataset attributes:\")\n",
    "    for item in f[key].attrs.items():\n",
    "        \n",
    "        print(item)\n",
    "        \n",
    "    print(f\"\\nData in dataset {index}:\")\n",
    "    print(list(f[key].keys()))\n",
    "    print(list(f[key]['beamline'].keys()))\n",
    "    print(list(f[key]['beamline']['ES lens'].attrs.keys()))\n",
    "        "
   ]
  },
  {
   "cell_type": "code",
   "execution_count": null,
   "id": "2363abe6",
   "metadata": {},
   "outputs": [],
   "source": []
  }
 ],
 "metadata": {
  "kernelspec": {
   "display_name": "Python 3 (ipykernel)",
   "language": "python",
   "name": "python3"
  },
  "language_info": {
   "codemirror_mode": {
    "name": "ipython",
    "version": 3
   },
   "file_extension": ".py",
   "mimetype": "text/x-python",
   "name": "python",
   "nbconvert_exporter": "python",
   "pygments_lexer": "ipython3",
   "version": "3.8.12"
  }
 },
 "nbformat": 4,
 "nbformat_minor": 5
}
